{
 "cells": [
  {
   "cell_type": "code",
   "execution_count": 1,
   "metadata": {},
   "outputs": [],
   "source": [
    "import os\n",
    "import csv\n",
    "import requests\n",
    "from bs4 import BeautifulSoup"
   ]
  },
  {
   "cell_type": "code",
   "execution_count": 2,
   "metadata": {},
   "outputs": [],
   "source": [
    "requete = requests.get(\"https://zestedesavoir.com/tutoriels/?category=autres-informatique\")\n",
    "page = requete.content\n",
    "soup = BeautifulSoup(page)"
   ]
  },
  {
   "cell_type": "code",
   "execution_count": 16,
   "metadata": {},
   "outputs": [
    {
     "name": "stdout",
     "output_type": "stream",
     "text": [
      "\n",
      "                Nous souhaitons déposer des cookies à des fins de mesure d'audience avec Google Analytics. Vous êtes libre d'accepter ou de refuser.\n",
      "            \n"
     ]
    }
   ],
   "source": [
    "h1 = soup.find(\"p\")\n",
    "print(h1.string)"
   ]
  },
  {
   "cell_type": "code",
   "execution_count": 15,
   "metadata": {},
   "outputs": [
    {
     "name": "stdout",
     "output_type": "stream",
     "text": [
      "Informatique\n"
     ]
    }
   ],
   "source": [
    "titre = h1.string.strip()\n",
    "print(titre)"
   ]
  },
  {
   "cell_type": "code",
   "execution_count": 17,
   "metadata": {},
   "outputs": [],
   "source": [
    "h3 = soup.find_all(\"h3\", {\"class\": \"content-title\"})\n",
    "desc = soup.find_all(\"p\", {\"class\": \"content-description\"})\n",
    "\n",
    "liste_titre = [elt.string.strip() for elt in h3]\n",
    "\n",
    "liste_description = [elt.string.strip() for elt in desc]"
   ]
  },
  {
   "cell_type": "code",
   "execution_count": 18,
   "metadata": {},
   "outputs": [
    {
     "name": "stdout",
     "output_type": "stream",
     "text": [
      "['Introduction à la preuve de programmes C avec Frama-C et son greffon WP', 'La programmation en C++ moderne', \"Démontrer par l'absurde\", 'Les expressions régulières', 'Le pain au levain facile', 'Utiliser le DOM pour générer un sommaire en PHP', \"Récap' communautaire #28 — Été 2020\", 'Zeste de mixage : la forêt', \"S'habiller dans le bon ordre grâce aux mathématiques\", \"Récap' communautaire #27 — Mai 2020\", 'Un zeste de mathématiques assistées par ordinateur', \"Récap' communautaire #26 — Avril 2020\"]\n"
     ]
    }
   ],
   "source": [
    "print(liste_titre)"
   ]
  },
  {
   "cell_type": "code",
   "execution_count": 19,
   "metadata": {},
   "outputs": [
    {
     "name": "stdout",
     "output_type": "stream",
     "text": [
      "[\"Introduction à la spécification et la preuve de programmes C, par l'usage de Frama-C, du langage ACSL et son greffon WP.  Quelques rudiments théoriques sont donnés.\", \"Apprenez la programmation de zéro jusqu'à l'infini !\", 'Une technique de démonstration incontournable', 'Un tutoriel pour comprendre les bases des expressions régulières', \"Ingrédients : eau du robinet, farine quelconque, sel, patience, et c'est tout.\", \"Comment générer un sommaire à partir d'un bout de HTML en PHP\\xa0? En utilisant le DOM, pardi\\xa0!\", \"Faisons le point sur l'actualité de notre communauté !\", \"Passer d'une partition à quelque chose d'écoutable\", \"Relations d'ordre, graphes et tris topologiques\", \"Faisons le point sur l'actualité de notre communauté !\", 'Quand la machine vient en support du mathématicien', \"Faisons le point sur l'actualité de notre communauté !\"]\n"
     ]
    }
   ],
   "source": [
    "print(liste_description)"
   ]
  },
  {
   "cell_type": "code",
   "execution_count": 21,
   "metadata": {},
   "outputs": [],
   "source": [
    "with open(\"donnees.csv\", \"w\", encoding=\"utf-8\") as fichier:\n",
    "    writer = csv.writer(fichier)"
   ]
  },
  {
   "cell_type": "code",
   "execution_count": 23,
   "metadata": {},
   "outputs": [],
   "source": [
    "j = len(liste_titre)\n",
    "i = 0\n",
    "with open(\"donnees.csv\", \"w\", encoding=\"utf-8\") as fichier:\n",
    "    writer = csv.writer(fichier)\n",
    "    while i < j:\n",
    "        writer.writerow((liste_titre[i], liste_description[i]))\n",
    "        i+=1"
   ]
  },
  {
   "cell_type": "code",
   "execution_count": 24,
   "metadata": {},
   "outputs": [
    {
     "ename": "ValueError",
     "evalue": "I/O operation on closed file.",
     "output_type": "error",
     "traceback": [
      "\u001b[1;31m---------------------------------------------------------------------------\u001b[0m",
      "\u001b[1;31mValueError\u001b[0m                                Traceback (most recent call last)",
      "\u001b[1;32m<ipython-input-24-bff34e2df75d>\u001b[0m in \u001b[0;36m<module>\u001b[1;34m\u001b[0m\n\u001b[1;32m----> 1\u001b[1;33m \u001b[0mwriter\u001b[0m\u001b[1;33m.\u001b[0m\u001b[0mwriterow\u001b[0m\u001b[1;33m(\u001b[0m\u001b[1;33m(\u001b[0m\u001b[1;33m)\u001b[0m\u001b[1;33m)\u001b[0m\u001b[1;33m\u001b[0m\u001b[1;33m\u001b[0m\u001b[0m\n\u001b[0m",
      "\u001b[1;31mValueError\u001b[0m: I/O operation on closed file."
     ]
    }
   ],
   "source": []
  },
  {
   "cell_type": "code",
   "execution_count": null,
   "metadata": {},
   "outputs": [],
   "source": []
  }
 ],
 "metadata": {
  "kernelspec": {
   "display_name": "Python 3",
   "language": "python",
   "name": "python3"
  },
  "language_info": {
   "codemirror_mode": {
    "name": "ipython",
    "version": 3
   },
   "file_extension": ".py",
   "mimetype": "text/x-python",
   "name": "python",
   "nbconvert_exporter": "python",
   "pygments_lexer": "ipython3",
   "version": "3.7.4"
  }
 },
 "nbformat": 4,
 "nbformat_minor": 2
}
